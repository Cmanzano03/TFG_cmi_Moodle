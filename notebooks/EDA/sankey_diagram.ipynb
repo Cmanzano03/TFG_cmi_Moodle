{
 "cells": [
  {
   "cell_type": "markdown",
   "metadata": {},
   "source": [
    "# Diagrama de Sankey\n",
    "---"
   ]
  },
  {
   "cell_type": "markdown",
   "metadata": {},
   "source": [
    "En esta celda, vamos a utilizar los datos de esta primera iteración del modelado para analizar como se dividió todo el flujo de estudiantes del curso entre la entrega de tareas de evaluación continua del curso y respecto a las notas que obtuvieron"
   ]
  },
  {
   "cell_type": "markdown",
   "metadata": {},
   "source": [
    "## Diagrama de entregas\n"
   ]
  },
  {
   "cell_type": "code",
   "execution_count": 2,
   "metadata": {},
   "outputs": [
    {
     "data": {
      "application/vnd.plotly.v1+json": {
       "config": {
        "plotlyServerURL": "https://plot.ly"
       },
       "data": [
        {
         "arrangement": "snap",
         "link": {
          "color": [
           "rgba(0, 128, 0, 0.4)",
           "rgba(255, 0, 0, 0.4)",
           "rgba(0, 128, 0, 0.4)",
           "rgba(255, 0, 0, 0.4)",
           "rgba(0, 128, 0, 0.4)",
           "rgba(255, 0, 0, 0.4)",
           "rgba(0, 128, 0, 0.4)",
           "rgba(255, 0, 0, 0.4)",
           "rgba(0, 128, 0, 0.4)",
           "rgba(255, 0, 0, 0.4)",
           "rgba(0, 128, 0, 0.4)",
           "rgba(255, 0, 0, 0.4)",
           "rgba(0, 128, 0, 0.4)",
           "rgba(255, 0, 0, 0.4)",
           "rgba(0, 128, 0, 0.4)",
           "rgba(255, 0, 0, 0.4)",
           "rgba(0, 128, 0, 0.4)",
           "rgba(255, 0, 0, 0.4)",
           "rgba(0, 128, 0, 0.4)",
           "rgba(255, 0, 0, 0.4)",
           "rgba(0, 128, 0, 0.4)",
           "rgba(255, 0, 0, 0.4)",
           "rgba(0, 128, 0, 0.4)",
           "rgba(255, 0, 0, 0.4)",
           "rgba(0, 128, 0, 0.4)",
           "rgba(255, 0, 0, 0.4)",
           "rgba(0, 128, 0, 0.4)",
           "rgba(255, 0, 0, 0.4)",
           "rgba(0, 128, 0, 0.4)",
           "rgba(255, 0, 0, 0.4)",
           "rgba(0, 128, 0, 0.4)",
           "rgba(255, 0, 0, 0.4)",
           "rgba(0, 128, 0, 0.4)",
           "rgba(255, 0, 0, 0.4)",
           "rgba(0, 128, 0, 0.4)",
           "rgba(255, 0, 0, 0.4)",
           "rgba(0, 128, 0, 0.4)",
           "rgba(0, 128, 0, 0.4)",
           "rgba(255, 0, 0, 0.4)",
           "rgba(0, 128, 0, 0.4)",
           "rgba(255, 0, 0, 0.4)",
           "rgba(0, 128, 0, 0.4)",
           "rgba(0, 128, 0, 0.4)",
           "rgba(255, 0, 0, 0.4)",
           "rgba(0, 128, 0, 0.4)",
           "rgba(255, 0, 0, 0.4)",
           "rgba(0, 128, 0, 0.4)",
           "rgba(255, 0, 0, 0.4)",
           "rgba(0, 128, 0, 0.4)",
           "rgba(255, 0, 0, 0.4)"
          ],
          "source": [
           1,
           1,
           1,
           1,
           0,
           0,
           0,
           0,
           3,
           3,
           3,
           3,
           2,
           2,
           2,
           2,
           5,
           5,
           5,
           5,
           4,
           4,
           4,
           4,
           7,
           7,
           7,
           7,
           6,
           6,
           6,
           6,
           9,
           9,
           9,
           9,
           8,
           8,
           8,
           11,
           11,
           11,
           10,
           10,
           10,
           10,
           13,
           13,
           12,
           12
          ],
          "target": [
           3,
           3,
           2,
           2,
           3,
           3,
           2,
           2,
           5,
           5,
           4,
           4,
           5,
           5,
           4,
           4,
           7,
           7,
           6,
           6,
           7,
           7,
           6,
           6,
           9,
           9,
           8,
           8,
           9,
           9,
           8,
           8,
           11,
           11,
           10,
           10,
           11,
           10,
           10,
           13,
           13,
           12,
           13,
           13,
           12,
           12,
           14,
           15,
           14,
           15
          ],
          "value": [
           8,
           9,
           6,
           2,
           9,
           7,
           145,
           15,
           8,
           12,
           9,
           4,
           10,
           6,
           141,
           11,
           10,
           17,
           8,
           1,
           9,
           1,
           141,
           14,
           12,
           15,
           7,
           3,
           11,
           6,
           138,
           9,
           10,
           12,
           13,
           9,
           7,
           138,
           12,
           12,
           12,
           5,
           13,
           13,
           138,
           8,
           25,
           25,
           143,
           8
          ]
         },
         "node": {
          "color": "rgba(44,160,101,0.8)",
          "label": [
           "Test Expr.<br>Entregó",
           "Test Expr.<br>No entregó",
           "Act. 02 - Elecciones<br>Entregó",
           "Act. 02 - Elecciones<br>No entregó",
           "Act. 03 - Catalan<br>Entregó",
           "Act. 03 - Catalan<br>No entregó",
           "Act. 04 - Primos<br>Entregó",
           "Act. 04 - Primos<br>No entregó",
           "Act. 05 - Vectores<br>Entregó",
           "Act. 05 - Vectores<br>No entregó",
           "Test Complejidad<br>Entregó",
           "Test Complejidad<br>No entregó",
           "Act. 07<br>Entregó",
           "Act. 07<br>No entregó",
           "Sigue",
           "Abandona"
          ],
          "pad": 15,
          "thickness": 16
         },
         "type": "sankey"
        }
       ],
       "layout": {
        "font": {
         "size": 12
        },
        "height": 600,
        "template": {
         "data": {
          "bar": [
           {
            "error_x": {
             "color": "#2a3f5f"
            },
            "error_y": {
             "color": "#2a3f5f"
            },
            "marker": {
             "line": {
              "color": "#E5ECF6",
              "width": 0.5
             },
             "pattern": {
              "fillmode": "overlay",
              "size": 10,
              "solidity": 0.2
             }
            },
            "type": "bar"
           }
          ],
          "barpolar": [
           {
            "marker": {
             "line": {
              "color": "#E5ECF6",
              "width": 0.5
             },
             "pattern": {
              "fillmode": "overlay",
              "size": 10,
              "solidity": 0.2
             }
            },
            "type": "barpolar"
           }
          ],
          "carpet": [
           {
            "aaxis": {
             "endlinecolor": "#2a3f5f",
             "gridcolor": "white",
             "linecolor": "white",
             "minorgridcolor": "white",
             "startlinecolor": "#2a3f5f"
            },
            "baxis": {
             "endlinecolor": "#2a3f5f",
             "gridcolor": "white",
             "linecolor": "white",
             "minorgridcolor": "white",
             "startlinecolor": "#2a3f5f"
            },
            "type": "carpet"
           }
          ],
          "choropleth": [
           {
            "colorbar": {
             "outlinewidth": 0,
             "ticks": ""
            },
            "type": "choropleth"
           }
          ],
          "contour": [
           {
            "colorbar": {
             "outlinewidth": 0,
             "ticks": ""
            },
            "colorscale": [
             [
              0,
              "#0d0887"
             ],
             [
              0.1111111111111111,
              "#46039f"
             ],
             [
              0.2222222222222222,
              "#7201a8"
             ],
             [
              0.3333333333333333,
              "#9c179e"
             ],
             [
              0.4444444444444444,
              "#bd3786"
             ],
             [
              0.5555555555555556,
              "#d8576b"
             ],
             [
              0.6666666666666666,
              "#ed7953"
             ],
             [
              0.7777777777777778,
              "#fb9f3a"
             ],
             [
              0.8888888888888888,
              "#fdca26"
             ],
             [
              1,
              "#f0f921"
             ]
            ],
            "type": "contour"
           }
          ],
          "contourcarpet": [
           {
            "colorbar": {
             "outlinewidth": 0,
             "ticks": ""
            },
            "type": "contourcarpet"
           }
          ],
          "heatmap": [
           {
            "colorbar": {
             "outlinewidth": 0,
             "ticks": ""
            },
            "colorscale": [
             [
              0,
              "#0d0887"
             ],
             [
              0.1111111111111111,
              "#46039f"
             ],
             [
              0.2222222222222222,
              "#7201a8"
             ],
             [
              0.3333333333333333,
              "#9c179e"
             ],
             [
              0.4444444444444444,
              "#bd3786"
             ],
             [
              0.5555555555555556,
              "#d8576b"
             ],
             [
              0.6666666666666666,
              "#ed7953"
             ],
             [
              0.7777777777777778,
              "#fb9f3a"
             ],
             [
              0.8888888888888888,
              "#fdca26"
             ],
             [
              1,
              "#f0f921"
             ]
            ],
            "type": "heatmap"
           }
          ],
          "histogram": [
           {
            "marker": {
             "pattern": {
              "fillmode": "overlay",
              "size": 10,
              "solidity": 0.2
             }
            },
            "type": "histogram"
           }
          ],
          "histogram2d": [
           {
            "colorbar": {
             "outlinewidth": 0,
             "ticks": ""
            },
            "colorscale": [
             [
              0,
              "#0d0887"
             ],
             [
              0.1111111111111111,
              "#46039f"
             ],
             [
              0.2222222222222222,
              "#7201a8"
             ],
             [
              0.3333333333333333,
              "#9c179e"
             ],
             [
              0.4444444444444444,
              "#bd3786"
             ],
             [
              0.5555555555555556,
              "#d8576b"
             ],
             [
              0.6666666666666666,
              "#ed7953"
             ],
             [
              0.7777777777777778,
              "#fb9f3a"
             ],
             [
              0.8888888888888888,
              "#fdca26"
             ],
             [
              1,
              "#f0f921"
             ]
            ],
            "type": "histogram2d"
           }
          ],
          "histogram2dcontour": [
           {
            "colorbar": {
             "outlinewidth": 0,
             "ticks": ""
            },
            "colorscale": [
             [
              0,
              "#0d0887"
             ],
             [
              0.1111111111111111,
              "#46039f"
             ],
             [
              0.2222222222222222,
              "#7201a8"
             ],
             [
              0.3333333333333333,
              "#9c179e"
             ],
             [
              0.4444444444444444,
              "#bd3786"
             ],
             [
              0.5555555555555556,
              "#d8576b"
             ],
             [
              0.6666666666666666,
              "#ed7953"
             ],
             [
              0.7777777777777778,
              "#fb9f3a"
             ],
             [
              0.8888888888888888,
              "#fdca26"
             ],
             [
              1,
              "#f0f921"
             ]
            ],
            "type": "histogram2dcontour"
           }
          ],
          "mesh3d": [
           {
            "colorbar": {
             "outlinewidth": 0,
             "ticks": ""
            },
            "type": "mesh3d"
           }
          ],
          "parcoords": [
           {
            "line": {
             "colorbar": {
              "outlinewidth": 0,
              "ticks": ""
             }
            },
            "type": "parcoords"
           }
          ],
          "pie": [
           {
            "automargin": true,
            "type": "pie"
           }
          ],
          "scatter": [
           {
            "fillpattern": {
             "fillmode": "overlay",
             "size": 10,
             "solidity": 0.2
            },
            "type": "scatter"
           }
          ],
          "scatter3d": [
           {
            "line": {
             "colorbar": {
              "outlinewidth": 0,
              "ticks": ""
             }
            },
            "marker": {
             "colorbar": {
              "outlinewidth": 0,
              "ticks": ""
             }
            },
            "type": "scatter3d"
           }
          ],
          "scattercarpet": [
           {
            "marker": {
             "colorbar": {
              "outlinewidth": 0,
              "ticks": ""
             }
            },
            "type": "scattercarpet"
           }
          ],
          "scattergeo": [
           {
            "marker": {
             "colorbar": {
              "outlinewidth": 0,
              "ticks": ""
             }
            },
            "type": "scattergeo"
           }
          ],
          "scattergl": [
           {
            "marker": {
             "colorbar": {
              "outlinewidth": 0,
              "ticks": ""
             }
            },
            "type": "scattergl"
           }
          ],
          "scattermap": [
           {
            "marker": {
             "colorbar": {
              "outlinewidth": 0,
              "ticks": ""
             }
            },
            "type": "scattermap"
           }
          ],
          "scattermapbox": [
           {
            "marker": {
             "colorbar": {
              "outlinewidth": 0,
              "ticks": ""
             }
            },
            "type": "scattermapbox"
           }
          ],
          "scatterpolar": [
           {
            "marker": {
             "colorbar": {
              "outlinewidth": 0,
              "ticks": ""
             }
            },
            "type": "scatterpolar"
           }
          ],
          "scatterpolargl": [
           {
            "marker": {
             "colorbar": {
              "outlinewidth": 0,
              "ticks": ""
             }
            },
            "type": "scatterpolargl"
           }
          ],
          "scatterternary": [
           {
            "marker": {
             "colorbar": {
              "outlinewidth": 0,
              "ticks": ""
             }
            },
            "type": "scatterternary"
           }
          ],
          "surface": [
           {
            "colorbar": {
             "outlinewidth": 0,
             "ticks": ""
            },
            "colorscale": [
             [
              0,
              "#0d0887"
             ],
             [
              0.1111111111111111,
              "#46039f"
             ],
             [
              0.2222222222222222,
              "#7201a8"
             ],
             [
              0.3333333333333333,
              "#9c179e"
             ],
             [
              0.4444444444444444,
              "#bd3786"
             ],
             [
              0.5555555555555556,
              "#d8576b"
             ],
             [
              0.6666666666666666,
              "#ed7953"
             ],
             [
              0.7777777777777778,
              "#fb9f3a"
             ],
             [
              0.8888888888888888,
              "#fdca26"
             ],
             [
              1,
              "#f0f921"
             ]
            ],
            "type": "surface"
           }
          ],
          "table": [
           {
            "cells": {
             "fill": {
              "color": "#EBF0F8"
             },
             "line": {
              "color": "white"
             }
            },
            "header": {
             "fill": {
              "color": "#C8D4E3"
             },
             "line": {
              "color": "white"
             }
            },
            "type": "table"
           }
          ]
         },
         "layout": {
          "annotationdefaults": {
           "arrowcolor": "#2a3f5f",
           "arrowhead": 0,
           "arrowwidth": 1
          },
          "autotypenumbers": "strict",
          "coloraxis": {
           "colorbar": {
            "outlinewidth": 0,
            "ticks": ""
           }
          },
          "colorscale": {
           "diverging": [
            [
             0,
             "#8e0152"
            ],
            [
             0.1,
             "#c51b7d"
            ],
            [
             0.2,
             "#de77ae"
            ],
            [
             0.3,
             "#f1b6da"
            ],
            [
             0.4,
             "#fde0ef"
            ],
            [
             0.5,
             "#f7f7f7"
            ],
            [
             0.6,
             "#e6f5d0"
            ],
            [
             0.7,
             "#b8e186"
            ],
            [
             0.8,
             "#7fbc41"
            ],
            [
             0.9,
             "#4d9221"
            ],
            [
             1,
             "#276419"
            ]
           ],
           "sequential": [
            [
             0,
             "#0d0887"
            ],
            [
             0.1111111111111111,
             "#46039f"
            ],
            [
             0.2222222222222222,
             "#7201a8"
            ],
            [
             0.3333333333333333,
             "#9c179e"
            ],
            [
             0.4444444444444444,
             "#bd3786"
            ],
            [
             0.5555555555555556,
             "#d8576b"
            ],
            [
             0.6666666666666666,
             "#ed7953"
            ],
            [
             0.7777777777777778,
             "#fb9f3a"
            ],
            [
             0.8888888888888888,
             "#fdca26"
            ],
            [
             1,
             "#f0f921"
            ]
           ],
           "sequentialminus": [
            [
             0,
             "#0d0887"
            ],
            [
             0.1111111111111111,
             "#46039f"
            ],
            [
             0.2222222222222222,
             "#7201a8"
            ],
            [
             0.3333333333333333,
             "#9c179e"
            ],
            [
             0.4444444444444444,
             "#bd3786"
            ],
            [
             0.5555555555555556,
             "#d8576b"
            ],
            [
             0.6666666666666666,
             "#ed7953"
            ],
            [
             0.7777777777777778,
             "#fb9f3a"
            ],
            [
             0.8888888888888888,
             "#fdca26"
            ],
            [
             1,
             "#f0f921"
            ]
           ]
          },
          "colorway": [
           "#636efa",
           "#EF553B",
           "#00cc96",
           "#ab63fa",
           "#FFA15A",
           "#19d3f3",
           "#FF6692",
           "#B6E880",
           "#FF97FF",
           "#FECB52"
          ],
          "font": {
           "color": "#2a3f5f"
          },
          "geo": {
           "bgcolor": "white",
           "lakecolor": "white",
           "landcolor": "#E5ECF6",
           "showlakes": true,
           "showland": true,
           "subunitcolor": "white"
          },
          "hoverlabel": {
           "align": "left"
          },
          "hovermode": "closest",
          "mapbox": {
           "style": "light"
          },
          "paper_bgcolor": "white",
          "plot_bgcolor": "#E5ECF6",
          "polar": {
           "angularaxis": {
            "gridcolor": "white",
            "linecolor": "white",
            "ticks": ""
           },
           "bgcolor": "#E5ECF6",
           "radialaxis": {
            "gridcolor": "white",
            "linecolor": "white",
            "ticks": ""
           }
          },
          "scene": {
           "xaxis": {
            "backgroundcolor": "#E5ECF6",
            "gridcolor": "white",
            "gridwidth": 2,
            "linecolor": "white",
            "showbackground": true,
            "ticks": "",
            "zerolinecolor": "white"
           },
           "yaxis": {
            "backgroundcolor": "#E5ECF6",
            "gridcolor": "white",
            "gridwidth": 2,
            "linecolor": "white",
            "showbackground": true,
            "ticks": "",
            "zerolinecolor": "white"
           },
           "zaxis": {
            "backgroundcolor": "#E5ECF6",
            "gridcolor": "white",
            "gridwidth": 2,
            "linecolor": "white",
            "showbackground": true,
            "ticks": "",
            "zerolinecolor": "white"
           }
          },
          "shapedefaults": {
           "line": {
            "color": "#2a3f5f"
           }
          },
          "ternary": {
           "aaxis": {
            "gridcolor": "white",
            "linecolor": "white",
            "ticks": ""
           },
           "baxis": {
            "gridcolor": "white",
            "linecolor": "white",
            "ticks": ""
           },
           "bgcolor": "#E5ECF6",
           "caxis": {
            "gridcolor": "white",
            "linecolor": "white",
            "ticks": ""
           }
          },
          "title": {
           "x": 0.05
          },
          "xaxis": {
           "automargin": true,
           "gridcolor": "white",
           "linecolor": "white",
           "ticks": "",
           "title": {
            "standoff": 15
           },
           "zerolinecolor": "white",
           "zerolinewidth": 2
          },
          "yaxis": {
           "automargin": true,
           "gridcolor": "white",
           "linecolor": "white",
           "ticks": "",
           "title": {
            "standoff": 15
           },
           "zerolinecolor": "white",
           "zerolinewidth": 2
          }
         }
        },
        "title": {
         "text": "Flujo de ENTREGAS por actividad ➜ Estado final (Abandona / Sigue)"
        }
       }
      }
     },
     "metadata": {},
     "output_type": "display_data"
    }
   ],
   "source": [
    "import pandas as pd\n",
    "import matplotlib.pyplot as plt\n",
    "import plotly.graph_objects as go\n",
    "\n",
    "# Assuming DATA_PATH and df_entregas setup from your original code\n",
    "DATA_PATH = \"/home/carlos/Documentos/TFG/spark-workspace/data/datasets\"\n",
    "df_entregas = pd.read_parquet(f\"{DATA_PATH}/dataset_1.1.parquet\")\n",
    "\n",
    "df_entregas = df_entregas.drop(columns=[\"num_entregas\"])\n",
    "\n",
    "columns_entregas = df_entregas.columns.tolist()\n",
    "columns_entregas.remove(\"Test Complejidad\")\n",
    "columns_entregas.insert(-2, \"Test Complejidad\")\n",
    "df_entregas = df_entregas[columns_entregas]\n",
    "\n",
    "columns_entregas.remove(\"abandona\")\n",
    "columns_entregas.append(\"abandona\")\n",
    "df_entregas = df_entregas[columns_entregas]\n",
    "\n",
    "# ─────────────────── FUNCIONES ────────────────────\n",
    "def build_sankey_entregas_abandono(df):\n",
    "    \"\"\"\n",
    "    Crea nodos, enlaces y colores para:\n",
    "      actividades 0/1  →  'abandona' (0 = Sigue, 1 = Abandona)\n",
    "    \"\"\"\n",
    "    # Excluye 'userid' y 'abandona' de las columnas de actividad iniciales\n",
    "    activity_cols = [c for c in df.columns if c not in {\"userid\", \"abandona\"}]\n",
    "    \n",
    "    node_idx, labels = {}, []\n",
    "    source, target, value, link_colors = [], [], [], []\n",
    "    \n",
    "    # helper: traduce valor a etiqueta según la columna\n",
    "    def label(col, val):\n",
    "        if col == \"abandona\":\n",
    "            return \"Abandona\" if val == 1 else \"Sigue\"\n",
    "        return \"Entregó\" if val == 1 else \"No entregó\"\n",
    "    \n",
    "    # Define colores para los enlaces\n",
    "    color_abandona = \"rgba(255, 0, 0, 0.4)\"  # Rojo para abandono\n",
    "    color_sigue = \"rgba(0, 128, 0, 0.4)\"     # Verde para continuar\n",
    "    \n",
    "    # 1) registrar nodos para las actividades\n",
    "    for col in activity_cols:\n",
    "        for val in (1, 0): # 1 primero para que quede arriba\n",
    "            node_idx[(col, val)] = len(labels)\n",
    "            labels.append(f\"{col}<br>{label(col,val)}\")\n",
    "            \n",
    "    # 1.1) registrar nodos para el estado final de abandono\n",
    "    # Estos nodos deben aparecer al final del diagrama.\n",
    "    # Necesitamos asegurar que sus índices sean únicos y secuenciales después de las actividades.\n",
    "    # Las etiquetas \"Sigue\" y \"Abandona\" se añadirán una vez al final.\n",
    "    node_idx[(\"abandona\", 0)] = len(labels) # Sigue\n",
    "    labels.append(\"Sigue\")\n",
    "    node_idx[(\"abandona\", 1)] = len(labels) # Abandona\n",
    "    labels.append(\"Abandona\")\n",
    "\n",
    "    # 2) contar transiciones entre columnas consecutivas de actividades\n",
    "    for col1, col2 in zip(activity_cols[:-1], activity_cols[1:]):\n",
    "        counts = (\n",
    "            df.groupby([col1, col2, \"abandona\"]).size().reset_index(name=\"n\")\n",
    "        )\n",
    "        for _, row in counts.iterrows():\n",
    "            v1, v2, abandona_status, n = int(row[col1]), int(row[col2]), int(row[\"abandona\"]), int(row[\"n\"])\n",
    "            \n",
    "            source.append(node_idx[(col1, v1)])\n",
    "            target.append(node_idx[(col2, v2)])\n",
    "            value.append(n)\n",
    "            \n",
    "            if abandona_status == 1:\n",
    "                link_colors.append(color_abandona)\n",
    "            else:\n",
    "                link_colors.append(color_sigue)\n",
    "\n",
    "    # 3) Contar transiciones de la última actividad al estado final (abandona/sigue)\n",
    "    last_activity_col = activity_cols[-1]\n",
    "    counts_to_final = (\n",
    "        df.groupby([last_activity_col, \"abandona\"]).size().reset_index(name=\"n\")\n",
    "    )\n",
    "    for _, row in counts_to_final.iterrows():\n",
    "        v_last_act, abandona_status, n = int(row[last_activity_col]), int(row[\"abandona\"]), int(row[\"n\"])\n",
    "        \n",
    "        source.append(node_idx[(last_activity_col, v_last_act)])\n",
    "        target.append(node_idx[(\"abandona\", abandona_status)]) # Conecta con el nodo 'Abandona' o 'Sigue'\n",
    "        value.append(n)\n",
    "        \n",
    "        if abandona_status == 1:\n",
    "            link_colors.append(color_abandona)\n",
    "        else:\n",
    "            link_colors.append(color_sigue)\n",
    "    \n",
    "    return labels, source, target, value, link_colors\n",
    "\n",
    "def plot_sankey(labels, source, target, value, link_colors, title):\n",
    "    fig = go.Figure(go.Sankey(\n",
    "        arrangement=\"snap\",\n",
    "        node=dict(label=labels, pad=15, thickness=16,\n",
    "                  color=\"rgba(44,160,101,0.8)\"), # El color del nodo puede ser genérico o personalizado\n",
    "        link=dict(source=source, target=target, value=value,\n",
    "                  color=link_colors) # Usar los colores de los enlaces generados dinámicamente\n",
    "    ))\n",
    "    fig.update_layout(title_text=title, font_size=12, height=600)\n",
    "    fig.show()\n",
    "\n",
    "# ─────────────────── EJECUCIÓN ────────────────────\n",
    "labels, src, tgt, val, link_colors = build_sankey_entregas_abandono(df_entregas)\n",
    "\n",
    "plot_sankey(labels, src, tgt, val, link_colors,\n",
    "            \"Flujo de ENTREGAS por actividad ➜ Estado final (Abandona / Sigue)\")"
   ]
  },
  {
   "cell_type": "markdown",
   "metadata": {},
   "source": [
    "## Consultas exploratorias"
   ]
  },
  {
   "cell_type": "code",
   "execution_count": 3,
   "metadata": {
    "vscode": {
     "languageId": "ruby"
    }
   },
   "outputs": [
    {
     "data": {
      "text/html": [
       "<div>\n",
       "<style scoped>\n",
       "    .dataframe tbody tr th:only-of-type {\n",
       "        vertical-align: middle;\n",
       "    }\n",
       "\n",
       "    .dataframe tbody tr th {\n",
       "        vertical-align: top;\n",
       "    }\n",
       "\n",
       "    .dataframe thead th {\n",
       "        text-align: right;\n",
       "    }\n",
       "</style>\n",
       "<table border=\"1\" class=\"dataframe\">\n",
       "  <thead>\n",
       "    <tr style=\"text-align: right;\">\n",
       "      <th></th>\n",
       "      <th>userid</th>\n",
       "      <th>Test Expr.</th>\n",
       "      <th>Act. 02 - Elecciones</th>\n",
       "      <th>Act. 03 - Catalan</th>\n",
       "      <th>Act. 04 - Primos</th>\n",
       "      <th>Act. 05 - Vectores</th>\n",
       "      <th>Test Complejidad</th>\n",
       "      <th>Act. 07</th>\n",
       "      <th>abandona</th>\n",
       "    </tr>\n",
       "  </thead>\n",
       "  <tbody>\n",
       "    <tr>\n",
       "      <th>0</th>\n",
       "      <td>e1f1d0f48ca77093f9d66cefd325504245277db3e6c145...</td>\n",
       "      <td>1</td>\n",
       "      <td>1</td>\n",
       "      <td>1</td>\n",
       "      <td>1</td>\n",
       "      <td>0</td>\n",
       "      <td>1</td>\n",
       "      <td>1</td>\n",
       "      <td>0</td>\n",
       "    </tr>\n",
       "    <tr>\n",
       "      <th>1</th>\n",
       "      <td>b5de2bb5b8538b199d6b3f0ecb32daa8a9d730ccc484db...</td>\n",
       "      <td>1</td>\n",
       "      <td>1</td>\n",
       "      <td>1</td>\n",
       "      <td>1</td>\n",
       "      <td>1</td>\n",
       "      <td>1</td>\n",
       "      <td>1</td>\n",
       "      <td>0</td>\n",
       "    </tr>\n",
       "    <tr>\n",
       "      <th>2</th>\n",
       "      <td>90a634296aff946e9d045997d512d2b77dbc01880715c1...</td>\n",
       "      <td>1</td>\n",
       "      <td>1</td>\n",
       "      <td>1</td>\n",
       "      <td>1</td>\n",
       "      <td>1</td>\n",
       "      <td>1</td>\n",
       "      <td>1</td>\n",
       "      <td>1</td>\n",
       "    </tr>\n",
       "    <tr>\n",
       "      <th>3</th>\n",
       "      <td>b6b2a12e84ea8203775195ed2bb4e99c5788053782b0bd...</td>\n",
       "      <td>1</td>\n",
       "      <td>1</td>\n",
       "      <td>1</td>\n",
       "      <td>1</td>\n",
       "      <td>1</td>\n",
       "      <td>1</td>\n",
       "      <td>1</td>\n",
       "      <td>0</td>\n",
       "    </tr>\n",
       "    <tr>\n",
       "      <th>4</th>\n",
       "      <td>fd96e32a94a932f45eb32933d9ffeb71f4addf9153a76b...</td>\n",
       "      <td>1</td>\n",
       "      <td>1</td>\n",
       "      <td>1</td>\n",
       "      <td>0</td>\n",
       "      <td>1</td>\n",
       "      <td>1</td>\n",
       "      <td>1</td>\n",
       "      <td>0</td>\n",
       "    </tr>\n",
       "  </tbody>\n",
       "</table>\n",
       "</div>"
      ],
      "text/plain": [
       "                                              userid  Test Expr.  \\\n",
       "0  e1f1d0f48ca77093f9d66cefd325504245277db3e6c145...           1   \n",
       "1  b5de2bb5b8538b199d6b3f0ecb32daa8a9d730ccc484db...           1   \n",
       "2  90a634296aff946e9d045997d512d2b77dbc01880715c1...           1   \n",
       "3  b6b2a12e84ea8203775195ed2bb4e99c5788053782b0bd...           1   \n",
       "4  fd96e32a94a932f45eb32933d9ffeb71f4addf9153a76b...           1   \n",
       "\n",
       "   Act. 02 - Elecciones  Act. 03 - Catalan  Act. 04 - Primos  \\\n",
       "0                     1                  1                 1   \n",
       "1                     1                  1                 1   \n",
       "2                     1                  1                 1   \n",
       "3                     1                  1                 1   \n",
       "4                     1                  1                 0   \n",
       "\n",
       "   Act. 05 - Vectores  Test Complejidad  Act. 07  abandona  \n",
       "0                   0                 1        1         0  \n",
       "1                   1                 1        1         0  \n",
       "2                   1                 1        1         1  \n",
       "3                   1                 1        1         0  \n",
       "4                   1                 1        1         0  "
      ]
     },
     "metadata": {},
     "output_type": "display_data"
    },
    {
     "name": "stdout",
     "output_type": "stream",
     "text": [
      "Cantidad de alumnos que entregaron todas las actividades y luego abandonaron: 4\n",
      "Cantidad de alumnos que no entregaron ninguna actividad y luego abandonaron: 5\n",
      "Cantidad de alumnos que no hicieron todas las entregas y luego abandonaron: 29\n",
      "Cantidad de alumnos que no hicieron todas las entregas pero aun así no abandonaron: 54\n"
     ]
    }
   ],
   "source": [
    "display(df_entregas.head())  # Mostrar las primeras filas del DataFrame para referencia\n",
    "\n",
    "all_activities = columns_entregas[1:-1]  # Exclude 'userid' and 'abandona'\n",
    "all_delivered_and_abandoned = df_entregas[(df_entregas[all_activities] == 1).all(axis=1) & (df_entregas['abandona'] == 1)]\n",
    "print(f\"Cantidad de alumnos que entregaron todas las actividades y luego abandonaron: {len(all_delivered_and_abandoned)}\")\n",
    "\n",
    "none_delivered_and_abandoned = df_entregas[(df_entregas[all_activities] == 0).all(axis=1) & (df_entregas['abandona'] == 1)]\n",
    "print(f\"Cantidad de alumnos que no entregaron ninguna actividad y luego abandonaron: {len(none_delivered_and_abandoned)}\")\n",
    "\n",
    "not_all_delivered_and_abandoned = df_entregas[(df_entregas[all_activities] != 1).any(axis=1) & (df_entregas['abandona'] == 1)]\n",
    "print(f\"Cantidad de alumnos que no hicieron todas las entregas y luego abandonaron: {len(not_all_delivered_and_abandoned)}\")\n",
    "\n",
    "not_all_delivered_and_not_abandoned = df_entregas[(df_entregas[all_activities] != 1).any(axis=1) & (df_entregas['abandona'] == 0)]\n",
    "print(f\"Cantidad de alumnos que no hicieron todas las entregas pero aun así no abandonaron: {len(not_all_delivered_and_not_abandoned)}\")\n"
   ]
  },
  {
   "cell_type": "code",
   "execution_count": 5,
   "metadata": {
    "vscode": {
     "languageId": "ruby"
    }
   },
   "outputs": [
    {
     "name": "stdout",
     "output_type": "stream",
     "text": [
      "Cantidad de alumnos que entregaron todas las actividades y luego abandonaron: 4\n",
      "Cantidad de alumnos que no entregaron ninguna actividad y luego abandonaron: 5\n",
      "Cantidad de alumnos que fallaron en alguna entrega y luego abandonaron: 24\n",
      "Cantidad de alumnos que no hicieron alguna entrega y abandonaron (calculado): 29\n",
      "Cantidad de alumnos que no hicieron alguna entrega pero aun así no abandonaron: 54\n"
     ]
    },
    {
     "data": {
      "image/png": "[encoded data removed]",
      "text/plain": [
       "<Figure size 800x600 with 1 Axes>"
      ]
     },
     "metadata": {},
     "output_type": "display_data"
    },
    {
     "data": {
      "image/png": "[encoded data removed]",
      "text/plain": [
       "<Figure size 700x700 with 1 Axes>"
      ]
     },
     "metadata": {},
     "output_type": "display_data"
    },
    {
     "data": {
      "image/png": "[encoded data removed]",
      "text/plain": [
       "<Figure size 800x600 with 1 Axes>"
      ]
     },
     "metadata": {},
     "output_type": "display_data"
    }
   ],
   "source": [
    "# --- CÁLCULOS QUE YA TIENES (PARA VERIFICAR LA REPRODUCCIÓN) ---\n",
    "\n",
    "# 1. Alumnos que entregaron todas las actividades y luego abandonaron\n",
    "all_delivered_and_abandoned = df_entregas[(df_entregas[all_activities] == 1).all(axis=1) & (df_entregas['abandona'] == 1)]\n",
    "count_all_delivered_and_abandoned = len(all_delivered_and_abandoned)\n",
    "# En base a tus datos, este debería ser 4\n",
    "print(f\"Cantidad de alumnos que entregaron todas las actividades y luego abandonaron: {count_all_delivered_and_abandoned}\")\n",
    "\n",
    "# 2. Alumnos que no entregaron ninguna actividad y luego abandonaron\n",
    "none_delivered_and_abandoned = df_entregas[(df_entregas[all_activities] == 0).all(axis=1) & (df_entregas['abandona'] == 1)]\n",
    "count_none_delivered_and_abandoned = len(none_delivered_and_abandoned)\n",
    "# En base a tus datos, este debería ser 5\n",
    "print(f\"Cantidad de alumnos que no entregaron ninguna actividad y luego abandonaron: {count_none_delivered_and_abandoned}\")\n",
    "\n",
    "# 3. Alumnos que no hicieron todas las entregas y luego abandonaron (y que no están en 'ninguna')\n",
    "# Esto es 'fallaron en alguna' + 'no hicieron ninguna'\n",
    "# Pero tus datos dicen 'fallaron en alguna' para el \"resto\" después de 5 y 4.\n",
    "# Total abandonaron = 5 (ninguna) + 4 (todas) + X (fallaron alguna)\n",
    "# Si X = total abandonos - 9. Necesitamos saber el total de abandonos primero.\n",
    "total_abandoned = df_entregas['abandona'].sum()\n",
    "count_failed_some_and_abandoned = total_abandoned - count_all_delivered_and_abandoned - count_none_delivered_and_abandoned\n",
    "print(f\"Cantidad de alumnos que fallaron en alguna entrega y luego abandonaron: {count_failed_some_and_abandoned}\")\n",
    "\n",
    "\n",
    "# 4. Alumnos que no hicieron alguna entrega (es decir, (df_entregas[all_activities] != 1).any(axis=1))\n",
    "# Este es el grupo que incluye 'fallaron en alguna' Y 'no hicieron ninguna'\n",
    "not_all_delivered = df_entregas[(df_entregas[all_activities] == 0).any(axis=1)]\n",
    "\n",
    "not_all_delivered_and_abandoned_calculated = len(df_entregas[(df_entregas[all_activities] == 0).any(axis=1) & (df_entregas['abandona'] == 1)])\n",
    "print(f\"Cantidad de alumnos que no hicieron alguna entrega y abandonaron (calculado): {not_all_delivered_and_abandoned_calculated}\")\n",
    "\n",
    "not_all_delivered_and_not_abandoned = df_entregas[(df_entregas[all_activities] == 0).any(axis=1) & (df_entregas['abandona'] == 0)]\n",
    "count_not_all_delivered_and_not_abandoned = len(not_all_delivered_and_not_abandoned)\n",
    "print(f\"Cantidad de alumnos que no hicieron alguna entrega pero aun así no abandonaron: {count_not_all_delivered_and_not_abandoned}\")\n",
    "\n",
    "\n",
    "# --- PREPARACIÓN DE DATOS PARA LOS GRÁFICOS BASADO EN TUS NÚMEROS DADOS ---\n",
    "\n",
    "# 1. Alumnos que abandonaron y su patrón de entrega\n",
    "data_abandoned_pattern = {\n",
    "    'Patrón de Entrega': ['Ninguna actividad', 'Todas las actividades', 'Fallaron en alguna'],\n",
    "    'Cantidad de Alumnos': [5, 4, total_abandoned - 9] # total_abandoned debe ser calculado desde tus datos reales\n",
    "}\n",
    "df_abandoned_pattern = pd.DataFrame(data_abandoned_pattern)\n",
    "# Ajustar para que 'total_abandoned - 9' sea el \"resto\" de los que abandonaron\n",
    "# Si los 5+4 = 9 abandonaron, el resto de los abandonos es 33 (del punto 2) - 9 = 24?\n",
    "# Vamos a asumir que el total de abandonos para el punto 1 es el mismo que para el punto 2 (33)\n",
    "# O simplemente usar los números que nos das para el punto 1\n",
    "# Si 5 no hicieron ninguna, 4 hicieron todas, y el resto fallaron en alguna\n",
    "# Implica que el \"resto\" es el total de abandonos menos 9.\n",
    "# Vamos a usar el número de 33 abandonos del punto 2 para ser consistentes con el \"total_abandoned\".\n",
    "# El \"resto\" sería 33 - 5 - 4 = 24\n",
    "total_abandoned_from_point2 = 33\n",
    "data_abandoned_pattern['Cantidad de Alumnos'][2] = total_abandoned_from_point2 - data_abandoned_pattern['Cantidad de Alumnos'][0] - data_abandoned_pattern['Cantidad de Alumnos'][1]\n",
    "\n",
    "\n",
    "# 2. Alumnos que abandonaron el test de complejidad\n",
    "data_test_complejidad = {\n",
    "    'Hizo Test de Complejidad': ['Sí', 'No'],\n",
    "    'Cantidad de Alumnos': [21, 12]\n",
    "}\n",
    "df_test_complejidad = pd.DataFrame(data_test_complejidad)\n",
    "\n",
    "# 3. Alumnos que no hicieron alguna entrega y su estado final\n",
    "data_no_all_delivered_status = {\n",
    "    'Estado Final': ['Abandonaron', 'No abandonaron'],\n",
    "    'Cantidad de Alumnos': [29, 54]\n",
    "}\n",
    "df_no_all_delivered_status = pd.DataFrame(data_no_all_delivered_status)\n",
    "\n",
    "\n",
    "# --- GENERACIÓN DE LOS DIAGRAMAS ---\n",
    "\n",
    "plt.style.use('seaborn-v0_8-darkgrid') # Estilo más estético\n",
    "\n",
    "# Diagrama 1: Patrón de entrega de alumnos que abandonaron\n",
    "plt.figure(figsize=(8, 6))\n",
    "plt.bar(df_abandoned_pattern['Patrón de Entrega'], df_abandoned_pattern['Cantidad de Alumnos'], color=['#FF9999', '#66B2FF', '#99FF99'])\n",
    "plt.xlabel('Patrón de Entrega', fontsize=12)\n",
    "plt.ylabel('Cantidad de Alumnos', fontsize=12)\n",
    "plt.grid(axis='y', linestyle='--', alpha=0.7)\n",
    "for i, val in enumerate(df_abandoned_pattern['Cantidad de Alumnos']):\n",
    "    plt.text(i, val + 0.5, str(val), ha='center', va='bottom', fontsize=10)\n",
    "plt.tight_layout()\n",
    "plt.show()\n",
    "\n",
    "\n",
    "# Diagrama 2: Alumnos que abandonaron el test de complejidad (Contraintuitivo)\n",
    "plt.figure(figsize=(7, 7))\n",
    "plt.pie(df_test_complejidad['Cantidad de Alumnos'], labels=df_test_complejidad['Hizo Test de Complejidad'], autopct='%1.1f%%',\n",
    "        colors=['#FFCC99', '#A3D900'], startangle=90, explode=(0.05, 0)) # explode para destacar ligeramente\n",
    "plt.title('De 33 Abandonos en Test Complejidad: ¿Quiénes lo hicieron?', fontsize=14)\n",
    "plt.axis('equal') # Asegura que el pastel sea un círculo\n",
    "plt.tight_layout()\n",
    "plt.show()\n",
    "\n",
    "# Diagrama 3: Alumnos que no hicieron alguna entrega y su estado final\n",
    "plt.figure(figsize=(8, 6))\n",
    "plt.bar(df_no_all_delivered_status['Estado Final'], df_no_all_delivered_status['Cantidad de Alumnos'], color=['#FF6666', '#66CC99'])\n",
    "plt.title('Alumnos que No Hicieron Alguna Entrega: ¿Abandonaron o Siguieron?', fontsize=14)\n",
    "plt.xlabel('Estado Final', fontsize=12)\n",
    "plt.ylabel('Cantidad de Alumnos', fontsize=12)\n",
    "plt.grid(axis='y', linestyle='--', alpha=0.7)\n",
    "for i, val in enumerate(df_no_all_delivered_status['Cantidad de Alumnos']):\n",
    "    plt.text(i, val + 0.5, str(val), ha='center', va='bottom', fontsize=10)\n",
    "plt.tight_layout()\n",
    "plt.show()\n",
    "\n"
   ]
  },
  {
   "cell_type": "code",
   "execution_count": 6,
   "metadata": {
    "vscode": {
     "languageId": "ruby"
    }
   },
   "outputs": [
    {
     "data": {
      "text/html": [
       "<div>\n",
       "<style scoped>\n",
       "    .dataframe tbody tr th:only-of-type {\n",
       "        vertical-align: middle;\n",
       "    }\n",
       "\n",
       "    .dataframe tbody tr th {\n",
       "        vertical-align: top;\n",
       "    }\n",
       "\n",
       "    .dataframe thead th {\n",
       "        text-align: right;\n",
       "    }\n",
       "</style>\n",
       "<table border=\"1\" class=\"dataframe\">\n",
       "  <thead>\n",
       "    <tr style=\"text-align: right;\">\n",
       "      <th></th>\n",
       "      <th>userid</th>\n",
       "      <th>Test Expr.</th>\n",
       "      <th>Test Complejidad</th>\n",
       "      <th>Act. 02 - Elecciones</th>\n",
       "      <th>Act. 03 - Catalan</th>\n",
       "      <th>Act. 04 - Primos</th>\n",
       "      <th>Act. 05 - Vectores</th>\n",
       "      <th>Act. 07</th>\n",
       "      <th>abandona</th>\n",
       "      <th>num_entregas</th>\n",
       "    </tr>\n",
       "  </thead>\n",
       "  <tbody>\n",
       "    <tr>\n",
       "      <th>0</th>\n",
       "      <td>e1f1d0f48ca77093f9d66cefd325504245277db3e6c145...</td>\n",
       "      <td>1</td>\n",
       "      <td>1</td>\n",
       "      <td>1</td>\n",
       "      <td>1</td>\n",
       "      <td>1</td>\n",
       "      <td>0</td>\n",
       "      <td>1</td>\n",
       "      <td>0</td>\n",
       "      <td>6</td>\n",
       "    </tr>\n",
       "    <tr>\n",
       "      <th>1</th>\n",
       "      <td>b5de2bb5b8538b199d6b3f0ecb32daa8a9d730ccc484db...</td>\n",
       "      <td>1</td>\n",
       "      <td>1</td>\n",
       "      <td>1</td>\n",
       "      <td>1</td>\n",
       "      <td>1</td>\n",
       "      <td>1</td>\n",
       "      <td>1</td>\n",
       "      <td>0</td>\n",
       "      <td>7</td>\n",
       "    </tr>\n",
       "    <tr>\n",
       "      <th>2</th>\n",
       "      <td>90a634296aff946e9d045997d512d2b77dbc01880715c1...</td>\n",
       "      <td>1</td>\n",
       "      <td>1</td>\n",
       "      <td>1</td>\n",
       "      <td>1</td>\n",
       "      <td>1</td>\n",
       "      <td>1</td>\n",
       "      <td>1</td>\n",
       "      <td>1</td>\n",
       "      <td>7</td>\n",
       "    </tr>\n",
       "    <tr>\n",
       "      <th>3</th>\n",
       "      <td>b6b2a12e84ea8203775195ed2bb4e99c5788053782b0bd...</td>\n",
       "      <td>1</td>\n",
       "      <td>1</td>\n",
       "      <td>1</td>\n",
       "      <td>1</td>\n",
       "      <td>1</td>\n",
       "      <td>1</td>\n",
       "      <td>1</td>\n",
       "      <td>0</td>\n",
       "      <td>7</td>\n",
       "    </tr>\n",
       "    <tr>\n",
       "      <th>4</th>\n",
       "      <td>fd96e32a94a932f45eb32933d9ffeb71f4addf9153a76b...</td>\n",
       "      <td>1</td>\n",
       "      <td>1</td>\n",
       "      <td>1</td>\n",
       "      <td>1</td>\n",
       "      <td>0</td>\n",
       "      <td>1</td>\n",
       "      <td>1</td>\n",
       "      <td>0</td>\n",
       "      <td>6</td>\n",
       "    </tr>\n",
       "  </tbody>\n",
       "</table>\n",
       "</div>"
      ],
      "text/plain": [
       "                                              userid  Test Expr.  \\\n",
       "0  e1f1d0f48ca77093f9d66cefd325504245277db3e6c145...           1   \n",
       "1  b5de2bb5b8538b199d6b3f0ecb32daa8a9d730ccc484db...           1   \n",
       "2  90a634296aff946e9d045997d512d2b77dbc01880715c1...           1   \n",
       "3  b6b2a12e84ea8203775195ed2bb4e99c5788053782b0bd...           1   \n",
       "4  fd96e32a94a932f45eb32933d9ffeb71f4addf9153a76b...           1   \n",
       "\n",
       "   Test Complejidad  Act. 02 - Elecciones  Act. 03 - Catalan  \\\n",
       "0                 1                     1                  1   \n",
       "1                 1                     1                  1   \n",
       "2                 1                     1                  1   \n",
       "3                 1                     1                  1   \n",
       "4                 1                     1                  1   \n",
       "\n",
       "   Act. 04 - Primos  Act. 05 - Vectores  Act. 07  abandona  num_entregas  \n",
       "0                 1                   0        1         0             6  \n",
       "1                 1                   1        1         0             7  \n",
       "2                 1                   1        1         1             7  \n",
       "3                 1                   1        1         0             7  \n",
       "4                 0                   1        1         0             6  "
      ]
     },
     "metadata": {},
     "output_type": "display_data"
    },
    {
     "data": {
      "image/png": "[encoded data removed]",
      "text/plain": [
       "<Figure size 600x400 with 1 Axes>"
      ]
     },
     "metadata": {},
     "output_type": "display_data"
    }
   ],
   "source": [
    "import seaborn as sns\n",
    "\n",
    "NEW_PATH = \"/home/carlos/Documentos/TFG/spark-workspace/data/datasets/dataset_1.1.parquet\"\n",
    "\n",
    "df_new = pd.read_parquet(NEW_PATH)\n",
    "display(df_new.head())\n",
    "\n",
    "# Visualizar distribución de entregas por clase\n",
    "plt.figure(figsize=(6, 4))\n",
    "sns.boxplot(\n",
    "    data=df_new,\n",
    "    x='abandona',             # ← necesario para etiquetas\n",
    "    y='num_entregas',\n",
    "    hue='abandona',\n",
    "    palette='Set2',\n",
    "    legend=False,\n",
    "    dodge=True\n",
    ")\n",
    "plt.xlabel(\"\")\n",
    "plt.ylabel(\"Nº de entregas (0–7)\")\n",
    "plt.xticks(ticks=[0, 1], labels=[\"No abandona\", \"Sí abandona\"])  # ← etiquetas personalizadas\n",
    "plt.tight_layout()\n",
    "plt.show()"
   ]
  }
 ],
 "metadata": {
  "kernelspec": {
   "display_name": "pyspark-env",
   "language": "python",
   "name": "python3"
  },
  "language_info": {
   "codemirror_mode": {
    "name": "ipython",
    "version": 3
   },
   "file_extension": ".py",
   "mimetype": "text/x-python",
   "name": "python",
   "nbconvert_exporter": "python",
   "pygments_lexer": "ipython3",
   "version": "3.10.16"
  }
 },
 "nbformat": 4,
 "nbformat_minor": 2
}
